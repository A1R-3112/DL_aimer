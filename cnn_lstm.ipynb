{
 "cells": [
  {
   "cell_type": "code",
   "execution_count": 1,
   "metadata": {},
   "outputs": [
    {
     "data": {
      "text/plain": [
       "device(type='cuda')"
      ]
     },
     "execution_count": 1,
     "metadata": {},
     "output_type": "execute_result"
    }
   ],
   "source": [
    "import pandas as pd\n",
    "import matplotlib.pyplot as plt\n",
    "import numpy as np\n",
    "import os\n",
    "import random\n",
    "import warnings\n",
    "from tqdm.auto import tqdm\n",
    "from sklearn.preprocessing import LabelEncoder\n",
    "\n",
    "import torch\n",
    "import torch.nn as nn\n",
    "import torch.optim as optim\n",
    "import torch.nn.functional as F\n",
    "from torch.utils.data import Dataset, DataLoader\n",
    "import platform\n",
    "\n",
    "warnings.filterwarnings('ignore')\n",
    "\n",
    "device = torch.device('cuda' if torch.cuda.is_available() else 'cpu')\n",
    "\n",
    "device"
   ]
  },
  {
   "cell_type": "code",
   "execution_count": 2,
   "metadata": {},
   "outputs": [],
   "source": [
    "CFG = {\n",
    "    'TRAIN_WINDOW_SIZE':90, # 90일치로 학습\n",
    "    'PREDICT_SIZE':21, # 21일치 예측\n",
    "    'EPOCHS':10,\n",
    "    'LEARNING_RATE':1e-4,\n",
    "    'BATCH_SIZE': 2048,\n",
    "    'SEED':41\n",
    "}\n",
    "\n",
    "PATH = os.getcwd() + '/data/'\n",
    "if platform.system() == 'Darwin':\n",
    "    LOADPATH = '/Users/a1r/Desktop/DL/timeseries_new_data/'\n",
    "else:\n",
    "    LOADPATH = '/home/a1r/바탕화면/DL/timeseries_new_data/'"
   ]
  },
  {
   "cell_type": "code",
   "execution_count": 3,
   "metadata": {},
   "outputs": [],
   "source": [
    "def seed_everything(seed):\n",
    "    random.seed(seed)\n",
    "    os.environ['PYTHONHASHSEED'] = str(seed)\n",
    "    np.random.seed(seed)\n",
    "    torch.manual_seed(seed)\n",
    "    torch.cuda.manual_seed(seed)\n",
    "    torch.backends.cudnn.deterministic = False\n",
    "    torch.backends.cudnn.benchmark = False\n",
    "\n",
    "seed_everything(CFG['SEED']) # Seed 고정"
   ]
  },
  {
   "cell_type": "markdown",
   "metadata": {},
   "source": [
    "## CNN-LSTM MODEL\n",
    "![스크린샷 2023-08-04 오후 5 16 00](https://github.com/Megvii-BaseDetection/YOLOX/assets/103639510/6e612140-39b5-4198-bb14-81ff2aca5f22)\n"
   ]
  },
  {
   "cell_type": "code",
   "execution_count": 4,
   "metadata": {},
   "outputs": [],
   "source": [
    "class Conv1d_LSTM(nn.Module):\n",
    "    def __init__(self, in_channel=9, hidden_size = 256, out_channel=CFG['PREDICT_SIZE']):\n",
    "        super(Conv1d_LSTM, self).__init__()\n",
    "        self.hidden_size = hidden_size\n",
    "        self.conv1d_1 = nn.Conv1d(in_channels=in_channel,\n",
    "                                out_channels=16,\n",
    "                                kernel_size=3,\n",
    "                                stride=1,\n",
    "                                padding=1)\n",
    "        \n",
    "        self.conv1d_2 = nn.Conv1d(in_channels=16,\n",
    "                                out_channels=32,\n",
    "                                kernel_size=3,\n",
    "                                stride=1,\n",
    "                                padding=1)\n",
    "        \n",
    "        self.lstm = nn.LSTM(input_size = 32,\n",
    "                            hidden_size=hidden_size,\n",
    "                            num_layers=1,\n",
    "                            bias=True,\n",
    "                            bidirectional=False,\n",
    "                            batch_first=True)\n",
    "        \n",
    "        self.fc = nn.Sequential(\n",
    "            nn.Linear(hidden_size, hidden_size//2),\n",
    "            nn.ReLU(),\n",
    "            nn.Dropout(0.4),\n",
    "            nn.Linear(hidden_size//2, out_channel)\n",
    "        )\n",
    "\n",
    "        self.actv = nn.ReLU()\n",
    "        # self.dense1 = nn.Linear(hidden_size, hidden_size//2)\n",
    "        # self.dropout = nn.Dropout()\n",
    "        # self.dense2 = nn.Linear(hidden_size//2, out_channel)\n",
    "    \n",
    "    def init_hidden(self, batch_size, device):\n",
    "        return (\n",
    "            torch.zeros(1, batch_size, self.hidden_size, device = device),  # h0\n",
    "            torch.zeros(1, batch_size, self.hidden_size, device = device)   # c0\n",
    "        )\n",
    "\n",
    "    def forward(self, x):\n",
    "\t# Raw x shape : (B, TRAIN_WINDOW_SIZE, in_channel) => (B, 90, 9)\n",
    "        \n",
    "        # Shape : (B, F: in_channel, S: TRAIN_WINDOW_SIZE) => (B, 9, 90)\n",
    "        x = x.transpose(1, 2)\n",
    "        # Shape with Conv1d_1 : (B, F, S) == (B, C, S) || C = channel => (B, 16, 90)\n",
    "        x = self.conv1d_1(x)\n",
    "        ## Shape with Conv1d_2 : (B, C, S) => (B, 32, 90)\n",
    "        x = self.conv1d_2(x)\n",
    "        ## Reshape : (B, S, C) == (B, S, F) => (B, 90, 32)\n",
    "        x = x.transpose(1, 2)\n",
    "        \n",
    "        batch_size = x.size(0)\n",
    "        hidden = self.init_hidden(batch_size, x.device)\n",
    "\n",
    "        # LSTM Layer\n",
    "        lstm_out, hidden = self.lstm(x, hidden)\n",
    "\n",
    "        # Only use the last output(-1) sequence\n",
    "        last_output = lstm_out[:, -1, :]\n",
    "\n",
    "        # Fully connected layer\n",
    "        output = self.actv(self.fc(last_output))\n",
    "        x = output.squeeze(1)\n",
    "        \n",
    "        # # Shape : (B, 512)\n",
    "        # x = self.dense1(x)\n",
    "        # # ReLU\n",
    "        # x = F.relu(x)\n",
    "        # # Shape : (B, H) => (B, 256)\n",
    "        # x = self.dropout(x)\n",
    "        # # Shape : (B, O) // O = output => (B, 21)\n",
    "        # x = self.dense2(x)\n",
    "\n",
    "        return x"
   ]
  },
  {
   "cell_type": "markdown",
   "metadata": {},
   "source": [
    "## Loss"
   ]
  },
  {
   "cell_type": "markdown",
   "metadata": {},
   "source": [
    "#### Metric"
   ]
  },
  {
   "cell_type": "code",
   "execution_count": null,
   "metadata": {},
   "outputs": [],
   "source": [
    "def pseudo_sfa(pred, df):\n",
    "    pred_length = pred.shape[1] - 1\n",
    "    true = df.iloc[:, -pred_length:].reset_index() \\\n",
    "        .rename(columns={\"index\": \"ID\"})\n",
    "\n",
    "    main_id = {}\n",
    "    for main_cat in df[\"대분류\"].unique():\n",
    "        main_id[main_cat] = df.query(\"대분류==@main_cat\")[\"ID\"].to_list()\n",
    "\n",
    "    psfa = []\n",
    "    for main_cat in main_id.keys():\n",
    "        indices = true[\"ID\"].isin(main_id[main_cat])\n",
    "\n",
    "        true_arr = true[indices].iloc[:, 1:].to_numpy()\n",
    "        pred_arr = pred[indices].iloc[:, 1:].to_numpy()\n",
    "\n",
    "        eps = np.ones((true_arr.shape)) / 1e8\n",
    "\n",
    "        true_sum = true_arr.sum(axis=0)\n",
    "        true_sum = np.stack([true_sum]*len(true_arr)) + eps\n",
    "        true_rate = true_arr / true_sum\n",
    "\n",
    "        abs_error = np.abs(true_arr - pred_arr)\n",
    "        denom = np.maximum(true_arr, pred_arr+eps)\n",
    "        \n",
    "        score = 1 - (1 / true_arr.shape[1]\n",
    "                     * (abs_error / denom) * true_rate).sum()\n",
    "        psfa.append(score)\n",
    "        print(main_cat, score)\n",
    "\n",
    "    return np.mean(psfa)"
   ]
  },
  {
   "cell_type": "markdown",
   "metadata": {},
   "source": [
    "#### Loss Function"
   ]
  },
  {
   "cell_type": "code",
   "execution_count": 5,
   "metadata": {},
   "outputs": [],
   "source": [
    "class PsfaLoss(nn.Module):\n",
    "    def __init__(self, scaler, df):\n",
    "        super().__init__()\n",
    "        self.scaler = scaler\n",
    "        self.main_cats = df.groupby(\"대분류\")[\"ID\"].unique().values\n",
    "    \n",
    "    def forward(self, pred, true):\n",
    "        # pred: [batch_size, length, products(15890)]\n",
    "        pred = pred * torch.tensor(self.scaler.denom) \\\n",
    "            + torch.tensor(self.scaler.min_val)\n",
    "        true = true * torch.tensor(self.scaler.denom) \\\n",
    "            + torch.tensor(self.scaler.min_val)\n",
    "\n",
    "        L1scaled = torch.abs(true-pred) / torch.maximum(pred, true+1e-8)\n",
    "        \n",
    "        rate = torch.zeros_like(true)\n",
    "        for i in range(len(self.main_cats)):\n",
    "            rate[:, :, self.main_cats[i]] = \\\n",
    "                true[:, :, self.main_cats[i]] \\\n",
    "                / (true[:, :, self.main_cats[i]].sum(dim=-1, keepdim=True) + 1e-8) \\\n",
    "                / len(self.main_cats)\n",
    "        return (L1scaled * rate).sum() / (true.shape[0] * true.shape[1])"
   ]
  },
  {
   "cell_type": "markdown",
   "metadata": {},
   "source": [
    "## Training Dataset"
   ]
  },
  {
   "cell_type": "code",
   "execution_count": 6,
   "metadata": {},
   "outputs": [],
   "source": [
    "class CustomDataset(Dataset):\n",
    "    def __init__(self, X, Y):\n",
    "        self.X = X\n",
    "        self.Y = Y\n",
    "        \n",
    "    def __getitem__(self, index):\n",
    "        if self.Y is not None:\n",
    "            return torch.Tensor(self.X[index]), torch.Tensor(self.Y[index])\n",
    "        return torch.Tensor(self.X[index])\n",
    "    \n",
    "    def __len__(self):\n",
    "        return len(self.X)"
   ]
  },
  {
   "cell_type": "markdown",
   "metadata": {},
   "source": [
    "#### Call the Dataset Array"
   ]
  },
  {
   "cell_type": "code",
   "execution_count": 7,
   "metadata": {},
   "outputs": [],
   "source": [
    "train_input = np.load(LOADPATH + 'train_input_minmax.npy')\n",
    "train_target = np.load(LOADPATH + 'train_target_minmax.npy')"
   ]
  },
  {
   "cell_type": "code",
   "execution_count": 8,
   "metadata": {},
   "outputs": [
    {
     "name": "stdout",
     "output_type": "stream",
     "text": [
      "(5132470, 90, 9) (5132470, 21)\n",
      "[[[ 1.      6.     37.     ...  0.8413  1.      0.    ]\n",
      "  [ 1.      6.     37.     ...  0.914   0.      0.    ]\n",
      "  [ 1.      6.     37.     ...  1.45    0.      0.    ]\n",
      "  ...\n",
      "  [ 1.      6.     37.     ...  0.522   1.      0.    ]\n",
      "  [ 1.      6.     37.     ...  0.653   1.      0.    ]\n",
      "  [ 1.      6.     37.     ...  0.8267  1.      0.0833]]\n",
      "\n",
      " [[ 1.      6.     37.     ...  0.914   0.      0.    ]\n",
      "  [ 1.      6.     37.     ...  1.45    0.      0.    ]\n",
      "  [ 1.      6.     37.     ...  2.422   0.      0.    ]\n",
      "  ...\n",
      "  [ 1.      6.     37.     ...  0.653   1.      0.    ]\n",
      "  [ 1.      6.     37.     ...  0.8267  1.      0.0833]\n",
      "  [ 1.      6.     37.     ...  1.465   1.      0.    ]]]\n"
     ]
    }
   ],
   "source": [
    "print(train_input.shape, train_target.shape)\n",
    "print(train_input[:2])"
   ]
  },
  {
   "cell_type": "code",
   "execution_count": 9,
   "metadata": {},
   "outputs": [],
   "source": [
    "data_len = len(train_input)\n",
    "train_dataset = CustomDataset(train_input[:-int(data_len*0.2)], train_target[:-int(data_len*0.2)])\n",
    "train_loader = DataLoader(train_dataset, batch_size = CFG['BATCH_SIZE'], shuffle=True, num_workers=0)\n",
    "\n",
    "val_dataset = CustomDataset(train_input[-int(data_len*0.2):], train_target[-int(data_len*0.2):])\n",
    "val_loader = DataLoader(val_dataset, batch_size = CFG['BATCH_SIZE'], shuffle=False, num_workers=0)"
   ]
  },
  {
   "cell_type": "code",
   "execution_count": 10,
   "metadata": {},
   "outputs": [],
   "source": [
    "def train(model, optimizer, train_loader, val_loader, device):\n",
    "    model.to(device)\n",
    "    criterion = nn.MSELoss().to(device)\n",
    "    best_loss = 9999999\n",
    "    best_model = None\n",
    "    train_loss = {}\n",
    "    val_loss = {}\n",
    "    \n",
    "    # Epoch\n",
    "    for epoch in range(1, CFG['EPOCHS']+1):\n",
    "        model.train()\n",
    "        train_loss_li = []\n",
    "        train_mae = []\n",
    "    \n",
    "    # Iteration\n",
    "        for X, Y in tqdm(iter(train_loader)):\n",
    "            X = X.to(device)\n",
    "            Y = Y.to(device)\n",
    "            \n",
    "            optimizer.zero_grad()\n",
    "            \n",
    "            output = model(X)\n",
    "            loss = criterion(output, Y)\n",
    "            \n",
    "            loss.backward()\n",
    "            optimizer.step()\n",
    "            \n",
    "            train_loss_li.append(loss.item())\n",
    "        \n",
    "        val_loss_li = validation(model, val_loader, criterion, device)\n",
    "        val_loss_mean = np.mean(val_loss_li)\n",
    "        print(f'Epoch : [{epoch}] Train Loss : [{np.mean(train_loss_li):.5f}] Val Loss : [{val_loss_mean:.5f}]')\n",
    "        \n",
    "        if best_loss > val_loss_mean:\n",
    "            best_loss = val_loss_mean\n",
    "            best_model = model\n",
    "            print('Model Saved')\n",
    "\n",
    "        train_loss[epoch] = train_loss_li\n",
    "        val_loss[epoch] = val_loss_li\n",
    "\n",
    "    return best_model, train_loss, val_loss"
   ]
  },
  {
   "cell_type": "code",
   "execution_count": 11,
   "metadata": {},
   "outputs": [],
   "source": [
    "def validation(model, val_loader, criterion, device):\n",
    "    model.eval()\n",
    "    val_loss = []\n",
    "    \n",
    "    with torch.no_grad():\n",
    "        for X, Y in tqdm(iter(val_loader)):\n",
    "            X = X.to(device)\n",
    "            Y = Y.to(device)\n",
    "            \n",
    "            output = model(X)\n",
    "            loss = criterion(output, Y)\n",
    "            \n",
    "            val_loss.append(loss.item())\n",
    "    return val_loss"
   ]
  },
  {
   "cell_type": "code",
   "execution_count": 12,
   "metadata": {},
   "outputs": [
    {
     "data": {
      "application/vnd.jupyter.widget-view+json": {
       "model_id": "891ce0ea38324c43885e1c19446e2a20",
       "version_major": 2,
       "version_minor": 0
      },
      "text/plain": [
       "  0%|          | 0/2005 [00:00<?, ?it/s]"
      ]
     },
     "metadata": {},
     "output_type": "display_data"
    },
    {
     "data": {
      "application/vnd.jupyter.widget-view+json": {
       "model_id": "eff16e3f41994926b51c1d0d3f31c157",
       "version_major": 2,
       "version_minor": 0
      },
      "text/plain": [
       "  0%|          | 0/502 [00:00<?, ?it/s]"
      ]
     },
     "metadata": {},
     "output_type": "display_data"
    },
    {
     "name": "stdout",
     "output_type": "stream",
     "text": [
      "Epoch : [1] Train Loss : [0.03171] Val Loss : [0.03199]\n",
      "Model Saved\n"
     ]
    },
    {
     "data": {
      "application/vnd.jupyter.widget-view+json": {
       "model_id": "527ce11508044379ae78654302ee8179",
       "version_major": 2,
       "version_minor": 0
      },
      "text/plain": [
       "  0%|          | 0/2005 [00:00<?, ?it/s]"
      ]
     },
     "metadata": {},
     "output_type": "display_data"
    },
    {
     "data": {
      "application/vnd.jupyter.widget-view+json": {
       "model_id": "3ad36ec825234abdaf94f13ae3cfd66d",
       "version_major": 2,
       "version_minor": 0
      },
      "text/plain": [
       "  0%|          | 0/502 [00:00<?, ?it/s]"
      ]
     },
     "metadata": {},
     "output_type": "display_data"
    },
    {
     "name": "stdout",
     "output_type": "stream",
     "text": [
      "Epoch : [2] Train Loss : [0.03047] Val Loss : [0.03115]\n",
      "Model Saved\n"
     ]
    },
    {
     "data": {
      "application/vnd.jupyter.widget-view+json": {
       "model_id": "7cbd7cfc47294357bcddff97b05d2553",
       "version_major": 2,
       "version_minor": 0
      },
      "text/plain": [
       "  0%|          | 0/2005 [00:00<?, ?it/s]"
      ]
     },
     "metadata": {},
     "output_type": "display_data"
    },
    {
     "data": {
      "application/vnd.jupyter.widget-view+json": {
       "model_id": "ca378ecfbac5460380bccf180b35c93e",
       "version_major": 2,
       "version_minor": 0
      },
      "text/plain": [
       "  0%|          | 0/502 [00:00<?, ?it/s]"
      ]
     },
     "metadata": {},
     "output_type": "display_data"
    },
    {
     "name": "stdout",
     "output_type": "stream",
     "text": [
      "Epoch : [3] Train Loss : [0.02959] Val Loss : [0.03126]\n"
     ]
    },
    {
     "data": {
      "application/vnd.jupyter.widget-view+json": {
       "model_id": "84b84525c8204623a10319dc7b2d106f",
       "version_major": 2,
       "version_minor": 0
      },
      "text/plain": [
       "  0%|          | 0/2005 [00:00<?, ?it/s]"
      ]
     },
     "metadata": {},
     "output_type": "display_data"
    },
    {
     "data": {
      "application/vnd.jupyter.widget-view+json": {
       "model_id": "d0152bf926bd494f81cb371f23a34f0d",
       "version_major": 2,
       "version_minor": 0
      },
      "text/plain": [
       "  0%|          | 0/502 [00:00<?, ?it/s]"
      ]
     },
     "metadata": {},
     "output_type": "display_data"
    },
    {
     "name": "stdout",
     "output_type": "stream",
     "text": [
      "Epoch : [4] Train Loss : [0.02888] Val Loss : [0.02921]\n",
      "Model Saved\n"
     ]
    },
    {
     "data": {
      "application/vnd.jupyter.widget-view+json": {
       "model_id": "686a44efe7984faeae974940bc194a30",
       "version_major": 2,
       "version_minor": 0
      },
      "text/plain": [
       "  0%|          | 0/2005 [00:00<?, ?it/s]"
      ]
     },
     "metadata": {},
     "output_type": "display_data"
    },
    {
     "data": {
      "application/vnd.jupyter.widget-view+json": {
       "model_id": "b66b8a106f8445b4ac3f5f1ee8b7e89a",
       "version_major": 2,
       "version_minor": 0
      },
      "text/plain": [
       "  0%|          | 0/502 [00:00<?, ?it/s]"
      ]
     },
     "metadata": {},
     "output_type": "display_data"
    },
    {
     "name": "stdout",
     "output_type": "stream",
     "text": [
      "Epoch : [5] Train Loss : [0.02651] Val Loss : [0.02315]\n",
      "Model Saved\n"
     ]
    },
    {
     "data": {
      "application/vnd.jupyter.widget-view+json": {
       "model_id": "64623acfd1eb47cf914cff360c98c62e",
       "version_major": 2,
       "version_minor": 0
      },
      "text/plain": [
       "  0%|          | 0/2005 [00:00<?, ?it/s]"
      ]
     },
     "metadata": {},
     "output_type": "display_data"
    },
    {
     "data": {
      "application/vnd.jupyter.widget-view+json": {
       "model_id": "dc82a2e69fe0409b9d40b4f114e13e6f",
       "version_major": 2,
       "version_minor": 0
      },
      "text/plain": [
       "  0%|          | 0/502 [00:00<?, ?it/s]"
      ]
     },
     "metadata": {},
     "output_type": "display_data"
    },
    {
     "name": "stdout",
     "output_type": "stream",
     "text": [
      "Epoch : [6] Train Loss : [0.02348] Val Loss : [0.02504]\n"
     ]
    },
    {
     "data": {
      "application/vnd.jupyter.widget-view+json": {
       "model_id": "9460b25f9f654453907fe67fd8ddd00d",
       "version_major": 2,
       "version_minor": 0
      },
      "text/plain": [
       "  0%|          | 0/2005 [00:00<?, ?it/s]"
      ]
     },
     "metadata": {},
     "output_type": "display_data"
    },
    {
     "data": {
      "application/vnd.jupyter.widget-view+json": {
       "model_id": "54a4d9f893d7413aa7b729d187dab912",
       "version_major": 2,
       "version_minor": 0
      },
      "text/plain": [
       "  0%|          | 0/502 [00:00<?, ?it/s]"
      ]
     },
     "metadata": {},
     "output_type": "display_data"
    },
    {
     "name": "stdout",
     "output_type": "stream",
     "text": [
      "Epoch : [7] Train Loss : [0.02105] Val Loss : [0.03055]\n"
     ]
    },
    {
     "data": {
      "application/vnd.jupyter.widget-view+json": {
       "model_id": "0dd2d7b8b4424b0aa4d936cb4acab3ce",
       "version_major": 2,
       "version_minor": 0
      },
      "text/plain": [
       "  0%|          | 0/2005 [00:00<?, ?it/s]"
      ]
     },
     "metadata": {},
     "output_type": "display_data"
    },
    {
     "data": {
      "application/vnd.jupyter.widget-view+json": {
       "model_id": "df43ca6359b449b090432f9bee525b2f",
       "version_major": 2,
       "version_minor": 0
      },
      "text/plain": [
       "  0%|          | 0/502 [00:00<?, ?it/s]"
      ]
     },
     "metadata": {},
     "output_type": "display_data"
    },
    {
     "name": "stdout",
     "output_type": "stream",
     "text": [
      "Epoch : [8] Train Loss : [0.01992] Val Loss : [0.02388]\n"
     ]
    },
    {
     "data": {
      "application/vnd.jupyter.widget-view+json": {
       "model_id": "14e0b654757e425abf64f135f0ffea5b",
       "version_major": 2,
       "version_minor": 0
      },
      "text/plain": [
       "  0%|          | 0/2005 [00:00<?, ?it/s]"
      ]
     },
     "metadata": {},
     "output_type": "display_data"
    },
    {
     "data": {
      "application/vnd.jupyter.widget-view+json": {
       "model_id": "4918fed0ae554c33815554d5f7afbce9",
       "version_major": 2,
       "version_minor": 0
      },
      "text/plain": [
       "  0%|          | 0/502 [00:00<?, ?it/s]"
      ]
     },
     "metadata": {},
     "output_type": "display_data"
    },
    {
     "name": "stdout",
     "output_type": "stream",
     "text": [
      "Epoch : [9] Train Loss : [0.01949] Val Loss : [0.01834]\n",
      "Model Saved\n"
     ]
    },
    {
     "data": {
      "application/vnd.jupyter.widget-view+json": {
       "model_id": "432dc3c45b7f4e7a8d1b8e71d22f731d",
       "version_major": 2,
       "version_minor": 0
      },
      "text/plain": [
       "  0%|          | 0/2005 [00:00<?, ?it/s]"
      ]
     },
     "metadata": {},
     "output_type": "display_data"
    },
    {
     "data": {
      "application/vnd.jupyter.widget-view+json": {
       "model_id": "5e1c5dd468524bc98eb3a112ed723c00",
       "version_major": 2,
       "version_minor": 0
      },
      "text/plain": [
       "  0%|          | 0/502 [00:00<?, ?it/s]"
      ]
     },
     "metadata": {},
     "output_type": "display_data"
    },
    {
     "name": "stdout",
     "output_type": "stream",
     "text": [
      "Epoch : [10] Train Loss : [0.01933] Val Loss : [0.02283]\n"
     ]
    }
   ],
   "source": [
    "model = Conv1d_LSTM()\n",
    "optimizer = torch.optim.Adam(params = model.parameters(), lr = CFG['LEARNING_RATE'])\n",
    "infer_model, train_loss, val_loss = train(model, optimizer, train_loader, val_loader, device)"
   ]
  },
  {
   "cell_type": "code",
   "execution_count": 13,
   "metadata": {},
   "outputs": [],
   "source": [
    "SAVE_PATH = os.getcwd() + '/cnn_lstm_drop_0.4_1e_4.pth'\n",
    "torch.save(infer_model.state_dict(), SAVE_PATH)"
   ]
  },
  {
   "cell_type": "code",
   "execution_count": 14,
   "metadata": {},
   "outputs": [],
   "source": [
    "train_loss = np.array(train_loss)\n",
    "val_loss = np.array(val_loss)\n",
    "\n",
    "# loss값 저장\n",
    "np.save(PATH + 'train_loss_drop_0.4', train_loss)\n",
    "np.save(PATH + 'val_loss_drop_0.4', val_loss)"
   ]
  },
  {
   "cell_type": "code",
   "execution_count": null,
   "metadata": {},
   "outputs": [],
   "source": [
    "test_input = np.load(LOADPATH + 'test_input_minmax.npy')\n",
    "min_ = np.load(PATH + 'MIN.npy')\n",
    "max_ = np.load(PATH + 'MAX.npy')"
   ]
  },
  {
   "cell_type": "code",
   "execution_count": null,
   "metadata": {},
   "outputs": [],
   "source": [
    "test_dataset = CustomDataset(test_input, None)\n",
    "test_loader = DataLoader(test_dataset, batch_size = CFG['BATCH_SIZE'], shuffle=False, num_workers=0)\n",
    "\n",
    "def inference(model, test_loader, device):\n",
    "    predictions = []\n",
    "    \n",
    "    with torch.no_grad():\n",
    "        for X in tqdm(iter(test_loader)):\n",
    "            X = X.to(device)\n",
    "            \n",
    "            output = model(X)\n",
    "            \n",
    "            # 모델 출력인 output을 CPU로 이동하고 numpy 배열로 변환\n",
    "            output = output.cpu().numpy()\n",
    "            \n",
    "            predictions.extend(output)\n",
    "    \n",
    "    return np.array(predictions)"
   ]
  },
  {
   "cell_type": "code",
   "execution_count": null,
   "metadata": {},
   "outputs": [],
   "source": [
    "model = Conv1d_LSTM()\n",
    "if platform.system() == \"Darwin\":\n",
    "    model.load_state_dict(torch.load(os.getcwd() + '/cnn_lstm_with_fe_data.pth', map_location=torch.device('cpu')))\n",
    "else:\n",
    "    model.load_state_dict(torch.load(os.getcwd() + '/cnn_lstm_with_fe_data.pth'))"
   ]
  },
  {
   "cell_type": "markdown",
   "metadata": {},
   "source": [
    "### Submit Sales' Predictions"
   ]
  },
  {
   "cell_type": "code",
   "execution_count": null,
   "metadata": {},
   "outputs": [],
   "source": [
    "prediction = inference(infer_model, test_loader, device)\n",
    "prediction.shape"
   ]
  },
  {
   "cell_type": "code",
   "execution_count": null,
   "metadata": {},
   "outputs": [],
   "source": [
    "prediction[0]"
   ]
  },
  {
   "cell_type": "code",
   "execution_count": null,
   "metadata": {},
   "outputs": [],
   "source": [
    "def return_scaler(arr, min_ = min_, max_ = max_):\n",
    "    denom = max_ - min_\n",
    "    for i in tqdm(range(len(arr))):\n",
    "        arr[i] = (arr[i]*denom[i]) + min_[i]\n",
    "    \n",
    "    return arr\n",
    "\n",
    "prediction_unscale = np.around(return_scaler(prediction))\n",
    "prediction_unscale"
   ]
  },
  {
   "cell_type": "code",
   "execution_count": null,
   "metadata": {},
   "outputs": [],
   "source": [
    "submit = pd.read_csv(PATH + '/sample_submission.csv') # submit은 15690개 상품 / 예측은 15682개 상품\n",
    "submit.iloc[:, 1:] = prediction_unscale\n",
    "submit"
   ]
  },
  {
   "cell_type": "code",
   "execution_count": null,
   "metadata": {},
   "outputs": [],
   "source": [
    "SAVE_SUBMIT = os.getcwd() + '/data/cnn_lstm_use_8_features_1e_5.csv'\n",
    "submit.to_csv(SAVE_SUBMIT, index_label=False)"
   ]
  },
  {
   "cell_type": "code",
   "execution_count": null,
   "metadata": {},
   "outputs": [],
   "source": []
  },
  {
   "cell_type": "code",
   "execution_count": null,
   "metadata": {},
   "outputs": [],
   "source": [
    "submit"
   ]
  }
 ],
 "metadata": {
  "kernelspec": {
   "display_name": "aimer",
   "language": "python",
   "name": "python3"
  },
  "language_info": {
   "codemirror_mode": {
    "name": "ipython",
    "version": 3
   },
   "file_extension": ".py",
   "mimetype": "text/x-python",
   "name": "python",
   "nbconvert_exporter": "python",
   "pygments_lexer": "ipython3",
   "version": "3.8.17"
  },
  "orig_nbformat": 4
 },
 "nbformat": 4,
 "nbformat_minor": 2
}
