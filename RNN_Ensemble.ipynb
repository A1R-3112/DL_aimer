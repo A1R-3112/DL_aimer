{
 "cells": [
  {
   "cell_type": "code",
   "execution_count": null,
   "metadata": {},
   "outputs": [],
   "source": [
    "import pandas as pd\n",
    "import matplotlib.pyplot as plt\n",
    "import numpy as np\n",
    "import os\n",
    "import random\n",
    "import warnings\n",
    "from tqdm.auto import tqdm\n",
    "from sklearn.preprocessing import LabelEncoder\n",
    "\n",
    "import torch\n",
    "import torch.nn as nn\n",
    "import torch.optim as optim\n",
    "import torch.nn.functional as F\n",
    "from torch.utils.data import Dataset, DataLoader\n",
    "from torch.autograd import Variable\n",
    "import platform\n",
    "\n",
    "warnings.filterwarnings('ignore')\n",
    "\n",
    "device = torch.device('cuda' if torch.cuda.is_available() else 'cpu')\n",
    "\n",
    "device"
   ]
  },
  {
   "cell_type": "code",
   "execution_count": null,
   "metadata": {},
   "outputs": [],
   "source": [
    "CFG = {\n",
    "    'TRAIN_WINDOW_SIZE':90, # 90일치로 학습\n",
    "    'PREDICT_SIZE':21, # 21일치 예측\n",
    "    'EPOCHS':10,\n",
    "    'LEARNING_RATE':1e-4,\n",
    "    'BATCH_SIZE': 1024,\n",
    "    'SEED':41\n",
    "}\n",
    "\n",
    "PATH = os.getcwd() + '/data/'\n",
    "if platform.system() == 'Darwin':\n",
    "    LOADPATH = '/Users/a1r/Desktop/DL/timeseries_new_data/'\n",
    "else:\n",
    "    LOADPATH = '/home/a1r/바탕화면/DL/timeseries_new_data/'"
   ]
  },
  {
   "cell_type": "code",
   "execution_count": null,
   "metadata": {},
   "outputs": [],
   "source": [
    "def seed_everything(seed):\n",
    "    random.seed(seed)\n",
    "    os.environ['PYTHONHASHSEED'] = str(seed)\n",
    "    np.random.seed(seed)\n",
    "    torch.manual_seed(seed)\n",
    "    torch.cuda.manual_seed(seed)\n",
    "    torch.backends.cudnn.deterministic = False\n",
    "    torch.backends.cudnn.benchmark = False\n",
    "\n",
    "seed_everything(CFG['SEED']) # Seed 고정"
   ]
  },
  {
   "cell_type": "code",
   "execution_count": null,
   "metadata": {},
   "outputs": [],
   "source": [
    "class CustomDataset(Dataset):\n",
    "    def __init__(self, X, Y):\n",
    "        self.X = X\n",
    "        self.Y = Y\n",
    "        \n",
    "    def __getitem__(self, index):\n",
    "        if self.Y is not None:\n",
    "            return torch.Tensor(self.X[index]), torch.Tensor(self.Y[index])\n",
    "        return torch.Tensor(self.X[index])\n",
    "    \n",
    "    def __len__(self):\n",
    "        return len(self.X)"
   ]
  },
  {
   "cell_type": "markdown",
   "metadata": {},
   "source": [
    "#### CNN-LSTM"
   ]
  },
  {
   "cell_type": "code",
   "execution_count": null,
   "metadata": {},
   "outputs": [],
   "source": [
    "class Conv1d_LSTM(nn.Module):\n",
    "    def __init__(self, in_channel=9, hidden_size = 128, out_channel=CFG['PREDICT_SIZE']):\n",
    "        super(Conv1d_LSTM, self).__init__()\n",
    "        self.hidden_size = hidden_size\n",
    "        self.conv1d_1 = nn.Conv1d(in_channels=in_channel,\n",
    "                                out_channels=16,\n",
    "                                kernel_size=3,\n",
    "                                stride=1,\n",
    "                                padding=1)\n",
    "        \n",
    "        self.conv1d_2 = nn.Conv1d(in_channels=16,\n",
    "                                out_channels=32,\n",
    "                                kernel_size=3,\n",
    "                                stride=1,\n",
    "                                padding=1)\n",
    "        \n",
    "        self.lstm = nn.LSTM(input_size = 32,\n",
    "                            hidden_size=hidden_size,\n",
    "                            num_layers=1,\n",
    "                            bias=True,\n",
    "                            bidirectional=False,\n",
    "                            batch_first=True)\n",
    "        \n",
    "        self.fc = nn.Sequential(\n",
    "            nn.Linear(hidden_size, hidden_size//2),\n",
    "            nn.ReLU(),\n",
    "            nn.Dropout(),\n",
    "            nn.Linear(hidden_size//2, out_channel),\n",
    "        )\n",
    "\n",
    "        self.actv = nn.ReLU()\n",
    "    \n",
    "    def init_hidden(self, batch_size, device):\n",
    "        return (\n",
    "            torch.zeros(1, batch_size, self.hidden_size, device = device),  # h0\n",
    "            torch.zeros(1, batch_size, self.hidden_size, device = device)   # c0\n",
    "        )\n",
    "\n",
    "    def forward(self, x):\n",
    "\t# Raw x shape : (B, TRAIN_WINDOW_SIZE, in_channel) => (B, 90, 9)\n",
    "        \n",
    "        # Shape : (B, F: in_channel, S: TRAIN_WINDOW_SIZE) => (B, 9, 90)\n",
    "        x = x.transpose(1, 2)\n",
    "        # Shape with Conv1d_1 : (B, F, S) == (B, C, S) || C = channel => (B, 16, 90)\n",
    "        x = self.conv1d_1(x)\n",
    "        ## Shape with Conv1d_2 : (B, C, S) => (B, 32, 90)\n",
    "        x = self.conv1d_2(x)\n",
    "        ## Reshape : (B, S, C) == (B, S, F) => (B, 90, 32)\n",
    "        x = x.transpose(1, 2)\n",
    "        \n",
    "        batch_size = x.size(0)\n",
    "        hidden = self.init_hidden(batch_size, x.device)\n",
    "\n",
    "        # LSTM Layer\n",
    "        lstm_out, hidden = self.lstm(x, hidden)\n",
    "\n",
    "        # Only use the last output(-1) sequence\n",
    "        last_output = lstm_out[:, -1, :]\n",
    "\n",
    "        # Fully connected layer\n",
    "        output = self.actv(self.fc(last_output))\n",
    "        x = output.squeeze(1)\n",
    "\n",
    "        return x"
   ]
  },
  {
   "cell_type": "markdown",
   "metadata": {},
   "source": [
    "#### GRU"
   ]
  },
  {
   "cell_type": "code",
   "execution_count": null,
   "metadata": {},
   "outputs": [],
   "source": [
    "class GRU(nn.Module):\n",
    "    def __init__(self, in_channel=9, hidden_size = 512, out_channel=CFG['PREDICT_SIZE']):\n",
    "            super(GRU, self).__init__()\n",
    "            self.hidden_size = hidden_size\n",
    "            self.input_size = in_channel\n",
    "\n",
    "            self.gru = nn.GRU(input_size = self.input_size,\n",
    "                        hidden_size = self.hidden_size,\n",
    "                        num_layers = 1,\n",
    "                        bias=True,\n",
    "                        bidirectional=False,\n",
    "                        batch_first=True)\n",
    "            \n",
    "            self.fc = nn.Sequential(\n",
    "                  nn.Linear(hidden_size, hidden_size//2),\n",
    "                  nn.ReLU(),\n",
    "                  nn.Dropout(),\n",
    "                  nn.Linear(hidden_size//2, out_channel)\n",
    "                  )\n",
    "            self.actv = nn.ReLU()\n",
    "    \n",
    "    def forward(self, x):\n",
    "        # x shape: (B: batch_size, TRAIN_WINDOW_SIZE: 90, 9)\n",
    "        batch_size = x.size(0)\n",
    "        hidden = self.init_hidden(batch_size, x.device)\n",
    "        \n",
    "        # gru layer\n",
    "        gru_out, hidden = self.gru(x, hidden)\n",
    "        \n",
    "        # Only use the last output sequence\n",
    "        last_output = gru_out[:, -1, :]\n",
    "        \n",
    "        # Fully connected layer\n",
    "        output = self.actv(self.fc(last_output))\n",
    "        \n",
    "        return output.squeeze(1)\n",
    "    \n",
    "    def init_hidden(self, batch_size, device):\n",
    "        # Initialize hidden state and cell state\n",
    "        return Variable(torch.zeros(1, batch_size, self.hidden_size, device = device)) # h0"
   ]
  },
  {
   "cell_type": "markdown",
   "metadata": {},
   "source": [
    "### Ensemble"
   ]
  },
  {
   "cell_type": "code",
   "execution_count": null,
   "metadata": {},
   "outputs": [],
   "source": [
    "class Ensemble(nn.Module):\n",
    "    def __init__(self, model1, model2):\n",
    "        super(Ensemble, self).__init__()\n",
    "        self.model1 = model1\n",
    "        self.model2 = model2\n",
    "    \n",
    "    def forward(self, x):\n",
    "        out1 = self.model1(x)   # out1.shape: (Batch_size, 21)\n",
    "        out2 = self.model2(x)   # out2.shape: (Batch_size, 21)\n",
    "\n",
    "        out = out1 + out2\n",
    "        x = torch.softmax(out, dim = 1) # x.shape: (Batch_size, 21)\n",
    "        return x"
   ]
  },
  {
   "cell_type": "markdown",
   "metadata": {},
   "source": [
    "### Call the Train Data"
   ]
  },
  {
   "cell_type": "code",
   "execution_count": null,
   "metadata": {},
   "outputs": [],
   "source": [
    "train_input = np.load(LOADPATH + 'train_input_minmax.npy')\n",
    "train_target = np.load(LOADPATH + 'train_target_minmax.npy')"
   ]
  },
  {
   "cell_type": "code",
   "execution_count": null,
   "metadata": {},
   "outputs": [],
   "source": [
    "data_len = len(train_input)\n",
    "train_dataset = CustomDataset(train_input[:-int(data_len*0.2)], train_target[:-int(data_len*0.2)])\n",
    "train_loader = DataLoader(train_dataset, batch_size = CFG['BATCH_SIZE'], shuffle=True, num_workers=0)\n",
    "\n",
    "val_dataset = CustomDataset(train_input[-int(data_len*0.2):], train_target[-int(data_len*0.2):])\n",
    "val_loader = DataLoader(val_dataset, batch_size = CFG['BATCH_SIZE'], shuffle=False, num_workers=0)"
   ]
  },
  {
   "cell_type": "markdown",
   "metadata": {},
   "source": [
    "### Train"
   ]
  },
  {
   "cell_type": "code",
   "execution_count": null,
   "metadata": {},
   "outputs": [],
   "source": [
    "def train(model, optimizer, train_loader, val_loader, device):\n",
    "    model.to(device)\n",
    "    criterion = nn.MSELoss().to(device)\n",
    "    best_loss = 9999999\n",
    "    best_model = None\n",
    "    train_loss = {}\n",
    "    val_loss = {}\n",
    "    \n",
    "    # Epoch\n",
    "    for epoch in range(1, CFG['EPOCHS']+1):\n",
    "        model.train()\n",
    "        train_loss_li = []\n",
    "        train_mae = []\n",
    "    \n",
    "    # Iteration\n",
    "        for X, Y in tqdm(iter(train_loader)):\n",
    "            X = X.to(device)\n",
    "            Y = Y.to(device)\n",
    "            \n",
    "            optimizer.zero_grad()\n",
    "            \n",
    "            output = model(X)\n",
    "            loss = criterion(output, Y)\n",
    "            \n",
    "            loss.backward()\n",
    "            optimizer.step()\n",
    "            \n",
    "            train_loss_li.append(loss.item())\n",
    "        \n",
    "        val_loss_li = validation(model, val_loader, criterion, device)\n",
    "        val_loss_mean = np.mean(val_loss_li)\n",
    "        print(f'Epoch : [{epoch}] Train Loss : [{np.mean(train_loss_li):.5f}] Val Loss : [{val_loss_mean:.5f}]')\n",
    "        \n",
    "        if best_loss > val_loss_mean:\n",
    "            best_loss = val_loss_mean\n",
    "            best_model = model\n",
    "            print('Model Saved')\n",
    "\n",
    "        train_loss[epoch] = train_loss_li\n",
    "        val_loss[epoch] = val_loss_li\n",
    "\n",
    "    return best_model, train_loss, val_loss\n",
    "\n",
    "def validation(model, val_loader, criterion, device):\n",
    "    model.eval()\n",
    "    val_loss = []\n",
    "    \n",
    "    with torch.no_grad():\n",
    "        for X, Y in tqdm(iter(val_loader)):\n",
    "            X = X.to(device)\n",
    "            Y = Y.to(device)\n",
    "            \n",
    "            output = model(X)\n",
    "            loss = criterion(output, Y)\n",
    "            \n",
    "            val_loss.append(loss.item())\n",
    "    return val_loss"
   ]
  },
  {
   "cell_type": "code",
   "execution_count": null,
   "metadata": {},
   "outputs": [],
   "source": [
    "cnn_lstm = Conv1d_LSTM()\n",
    "gru = GRU()\n",
    "model = Ensemble(cnn_lstm, gru)\n",
    "optimizer = torch.optim.Adam(params = model.parameters(), lr = CFG['LEARNING_RATE'])\n",
    "infer_model, train_loss, val_loss = train(model, optimizer, train_loader, val_loader, device)"
   ]
  },
  {
   "cell_type": "markdown",
   "metadata": {},
   "source": [
    "### Save Model"
   ]
  },
  {
   "cell_type": "code",
   "execution_count": null,
   "metadata": {},
   "outputs": [],
   "source": [
    "SAVEPATH = os.getcwd() + '/Ensemble_lstm_gru.pth'\n",
    "torch.save(infer_model.state_dict(), SAVEPATH)\n",
    "\n",
    "train_loss = np.array(train_loss)\n",
    "val_loss = np.array(val_loss)\n",
    "\n",
    "# loss값 저장\n",
    "np.save(PATH + 'train_loss_gru', train_loss)\n",
    "np.save(PATH + 'val_loss_gru', val_loss)"
   ]
  },
  {
   "cell_type": "markdown",
   "metadata": {},
   "source": [
    "### Load Model"
   ]
  },
  {
   "cell_type": "code",
   "execution_count": null,
   "metadata": {},
   "outputs": [],
   "source": [
    "cnn_lstm = Conv1d_LSTM()\n",
    "gru = GRU()\n",
    "lstm_gru = Ensemble(cnn_lstm, gru)"
   ]
  },
  {
   "cell_type": "code",
   "execution_count": null,
   "metadata": {},
   "outputs": [],
   "source": [
    "if platform.system() == 'Darwin':\n",
    "    lstm_gru.load_state_dict(torch.load(os.getcwd() + \"/Ensemble_lstm_gru.pth\", map_location=torch.device('cpu')))\n",
    "    cnn_lstm.load_state_dict(torch.load(os.getcwd() + '/cnn_lstm_1e_5.pth', map_location=torch.device('cpu')))\n",
    "    gru.load_state_dict(torch.load(os.getcwd() + '/GRU_1e_4.pth', map_location=torch.device('cpu')))\n",
    "\n",
    "else:\n",
    "    lstm_gru.load_state_dict(torch.load(os.getcwd() + \"Ensemble_lstm_gru.pth\"))\n",
    "    cnn_lstm.load_state_dict(torch.load(os.getcwd() + '/cnn_lstm_1e_5.pth'))\n",
    "    gru.load_state_dict(torch.load(os.getcwd() + '/GRU_1e_4.pth'))"
   ]
  },
  {
   "cell_type": "markdown",
   "metadata": {},
   "source": [
    "### Predictions"
   ]
  },
  {
   "cell_type": "code",
   "execution_count": null,
   "metadata": {},
   "outputs": [],
   "source": [
    "test_input = np.load(LOADPATH + 'test_input_minmax.npy')\n",
    "min_ = np.load(PATH + 'MIN.npy')\n",
    "max_ = np.load(PATH + 'MAX.npy')"
   ]
  },
  {
   "cell_type": "code",
   "execution_count": null,
   "metadata": {},
   "outputs": [],
   "source": [
    "test_dataset = CustomDataset(test_input, None)\n",
    "test_loader = DataLoader(test_dataset, batch_size = CFG['BATCH_SIZE'], shuffle=False, num_workers=0)\n",
    "\n",
    "def inference(model, test_loader, device):\n",
    "    predictions = []\n",
    "    model.to(device)\n",
    "    \n",
    "    with torch.no_grad():\n",
    "        for X in tqdm(iter(test_loader)):\n",
    "            X = X.to(device)\n",
    "            \n",
    "            output = model(X)\n",
    "            \n",
    "            # 모델 출력인 output을 CPU로 이동하고 numpy 배열로 변환\n",
    "            output = output.cpu().numpy()\n",
    "            \n",
    "            predictions.extend(output)\n",
    "    \n",
    "    return np.array(predictions)"
   ]
  },
  {
   "cell_type": "code",
   "execution_count": null,
   "metadata": {},
   "outputs": [],
   "source": [
    "# ens = Ensemble(cnn_lstm, gru)\n",
    "predictions = inference(lstm_gru, test_loader, device)"
   ]
  },
  {
   "cell_type": "code",
   "execution_count": null,
   "metadata": {},
   "outputs": [],
   "source": [
    "def return_scaler(arr, min_ = min_, max_ = max_):\n",
    "    denom = max_ - min_\n",
    "    for i in tqdm(range(len(arr))):\n",
    "        arr[i] = (arr[i]*denom[i]) + min_[i]\n",
    "    \n",
    "    return arr\n",
    "\n",
    "prediction_unscale = np.around(return_scaler(predictions))\n",
    "prediction_unscale"
   ]
  },
  {
   "cell_type": "code",
   "execution_count": null,
   "metadata": {},
   "outputs": [],
   "source": [
    "submit = pd.read_csv(PATH + '/sample_submission.csv') # submit은 15690개 상품 / 예측은 15682개 상품\n",
    "submit.iloc[:, 1:] = prediction_unscale\n",
    "submit.head(3)"
   ]
  },
  {
   "cell_type": "code",
   "execution_count": null,
   "metadata": {},
   "outputs": [],
   "source": [
    "SAVE_SUBMIT = os.getcwd() + '/data/Ensemble_cnn_lstm_gru.csv'\n",
    "submit.to_csv(SAVE_SUBMIT, index_label=False)"
   ]
  },
  {
   "cell_type": "code",
   "execution_count": null,
   "metadata": {},
   "outputs": [],
   "source": [
    "pd.read_csv(SAVE_SUBMIT).head(3)"
   ]
  }
 ],
 "metadata": {
  "kernelspec": {
   "display_name": "aimer",
   "language": "python",
   "name": "python3"
  },
  "language_info": {
   "codemirror_mode": {
    "name": "ipython",
    "version": 3
   },
   "file_extension": ".py",
   "mimetype": "text/x-python",
   "name": "python",
   "nbconvert_exporter": "python",
   "pygments_lexer": "ipython3",
   "version": "3.8.17"
  },
  "orig_nbformat": 4
 },
 "nbformat": 4,
 "nbformat_minor": 2
}
